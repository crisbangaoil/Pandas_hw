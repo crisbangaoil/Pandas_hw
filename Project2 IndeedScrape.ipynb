{
 "cells": [
  {
   "cell_type": "code",
   "execution_count": 12,
   "metadata": {},
   "outputs": [],
   "source": [
    "# Dependencies\n",
    "from bs4 import BeautifulSoup\n",
    "import requests\n",
    "from splinter import Browser\n",
    "import pandas as pd\n",
    "from collections import OrderedDict, defaultdict\n",
    "import pymongo\n"
   ]
  },
  {
   "cell_type": "code",
   "execution_count": 13,
   "metadata": {},
   "outputs": [],
   "source": [
    "# Initialize PyMongo to work with MongoDBs\n",
    "conn = 'mongodb://localhost:27017'\n",
    "client = pymongo.MongoClient(conn)\n",
    "\n",
    "db = client.project2_db\n",
    "collection = db."
   ]
  },
  {
   "cell_type": "code",
   "execution_count": 30,
   "metadata": {},
   "outputs": [],
   "source": [
    "jobs = []\n",
    "companies = []\n",
    "salaries = []\n",
    "locations = []\n",
    "links = []\n",
    "\n",
    "url = 'https://www.indeed.com/jobs?q=data+science&l=California'\n",
    "\n",
    "# Retrieve page with the requests module\n",
    "response = requests.get(url)\n",
    "soup = BeautifulSoup(response.text, 'lxml')\n",
    "results = soup.find_all('div',class_='row')\n",
    "\n",
    "# Loop through results to retrieve title, company, location, salary, and link\n",
    "for result in results:\n",
    "\n",
    "    #job title\n",
    "    try:\n",
    "        job_title = result.a.text.strip()\n",
    "    except:\n",
    "        job_title = 'empty'\n",
    "    jobs.append(job_title)\n",
    "\n",
    "    #company\n",
    "    try:\n",
    "        company = result.find(name='span', attrs={'class':'company'}).text.strip()\n",
    "    except:\n",
    "        company = 'empty'\n",
    "    companies.append(company)\n",
    "\n",
    "    #location\n",
    "    try:\n",
    "        location = result.find(name='div', class_='location').text.strip() \n",
    "    except:\n",
    "        try:\n",
    "            location = result.find(name='span', class_='location').text.strip()\n",
    "        except:\n",
    "            location = 'no location'\n",
    "\n",
    "    locations.append(location)\n",
    "\n",
    "    #salary\n",
    "    try:\n",
    "        salary = result.find(name='span', class_='salary no-wrap').text.strip()\n",
    "    except:\n",
    "        salary = 'no salary info'\n",
    "\n",
    "    salaries.append(salary)\n",
    "\n",
    "    try:\n",
    "        targets = result.find('a', class_='turnstileLink')\n",
    "        link = 'https://www.indeed.com' + targets.attrs['href']\n",
    "    except:\n",
    "        link = 'empty'\n",
    "    links.append(link)"
   ]
  },
  {
   "cell_type": "code",
   "execution_count": 31,
   "metadata": {},
   "outputs": [
    {
     "name": "stdout",
     "output_type": "stream",
     "text": [
      "['R&D Product Application Scientist', 'Data Scientist / Analyst', 'Data Engineer', 'Business Intelligence Data Analyst', 'Senior Big Data Engineer', 'Data Science Intern Burbank, CA Summer 2019', 'Data Scientist', 'Data Scientist (entry level)', 'Analyst I, Data Science', 'Undergraduate Intern - Data Science', 'Data Scientist', 'BIOVIA - Data Science Internship, June - August 2019', 'Data Science Intern', 'Data Science Specialist', 'Summer 2019 Intern - Data Science', 'Data Scientist, Machine Learning Engineer', 'Data Scientist']\n"
     ]
    }
   ],
   "source": [
    "print(jobs)"
   ]
  },
  {
   "cell_type": "code",
   "execution_count": 47,
   "metadata": {},
   "outputs": [],
   "source": [
    "#Create dictionary to hold all information\n",
    "posts = {\n",
    "    'title': jobs,\n",
    "    'location':locations,\n",
    "    'company': companies,\n",
    "    'url':links\n",
    "    }\n",
    "\n",
    "#convert dictionary to Pandas Data Frame\n",
    "df = pd.DataFrame.from_dict(posts)\n",
    "\n",
    "#drop duplicates of title and location are the same\n",
    "df = df.drop_duplicates(subset=['title','location','company'],keep='last')\n",
    "\n",
    "#convert data_frame back to dictionary\n",
    "posts = df.to_dict('records')"
   ]
  },
  {
   "cell_type": "code",
   "execution_count": 48,
   "metadata": {},
   "outputs": [
    {
     "data": {
      "text/plain": [
       "[{'title': 'R&D Product Application Scientist',\n",
       "  'location': 'San Clemente, CA 92672',\n",
       "  'company': 'Custom Flavors',\n",
       "  'url': 'https://www.indeed.com/pagead/clk?mo=r&ad=-6NYlbfkN0B-Idbg_iRzxYCuduFuYmm2go2ku-cJi4rWPQyALxo-q929VtTjRfU_nOECacqEm-cDr3IMCz5xa0zpFqwZzCcOkuAsTuan5CEuiOHF-8y3lGsEtww2QT-ftxQpOicOx-mEGotEsl2rgz2d4_-HtpueHHoMnsShuKPmKKky2UMVRFp_VIBYD5lXt058iLYA7co3Es3pU78XsSPBBdmXXelIT7vAxEe3HwZoSgUTvUOJdb9thGlc__wOxYdUu5PFJJEI2Tc-wtecKjjX1KWvv6LMYZ24RYL9l7XaB7_so2E6PCcHXa3x6856JwmIQ8xNy_9YugTgTGgz4zXPo1ixr0AsPeHNBJL7PtLHpOqrxStdBlIqDyrEQHLIOCFXAP1CkoaqBvIYCqOjIwTi5CSz7FR46FZsl0cuSCFAeRBrgQWixkgv9jQozz4o5VtzqcbZX8A=&vjs=3&p=1&sk=&fvj=1'},\n",
       " {'title': 'Data Scientist / Analyst',\n",
       "  'location': 'San Francisco Bay Area, CA',\n",
       "  'company': 'BIS Consulting, Inc, on behalf of large enterprise Client',\n",
       "  'url': 'https://www.indeed.com/pagead/clk?mo=r&ad=-6NYlbfkN0B9TYTfsA13ghXN5GR1FMS70VFxifqAIuagaQAmYtSjRAAD_kecdZD5T1laDI5PVDcQgUgyX7NdsxN7hMQP1ZqUF-whXACYsQfS1HoRsq8IzFih6v8koDbUr7j9YSz-38uXHXrpA3nS1fBBMozK7umwdBS3k7qEKmtcr7IggiPff16foWeC3vqV40S-nydfzzIqX27FEdlumWgQFBmRUzI2hbENmdj6Ubisd9UbGHOfgKIVpJvXeXFdKnfrww8E6DvSqtmK-kUI9aBGW3IEzFZqrNpRumlE8H617sKYIa9OwwMwY7F08_9DiA_LB8N9PvUBeTVXQ2tA4UY-W8bc1XBVyxJ2g4ZCye_Ll_W5CAXEcRolCMr3crJv2oWqM1LHecvNlCxSe_T_OVQMu1fmNt2GslutvvX3NMwpfINMjVlD5kcbEfHUGtCL&vjs=3&p=2&sk=&fvj=1'},\n",
       " {'title': 'Data Engineer',\n",
       "  'location': 'San Diego, CA',\n",
       "  'company': 'National Pen',\n",
       "  'url': 'https://www.indeed.com/pagead/clk?mo=r&ad=-6NYlbfkN0CE15K4lFhVfi7PAmDSIGOWsp5LRIwFOmXYrqQorwGoXLlGHlukZd5VAnCjpzViUV2MMPe7puWKwUwN7JLGM766WQYWNbtLt0NQZB-PQHU3_vZrxdnGCazcc2Gm70eVctS_cWCrfm9Asctyj-Y9ouxN5sMHBB52SdconDqYKe_BCm3K2aCo7SyZP7smyUT6bvJukVQfJnkKA2Wof8JNtN31OBQCDaPFetEoOhlHRtBjs6niPlneNMeQxDg5geIzmAAuTP-EmKeMTeP9BRpKvCWqHGWtSNsXXla6uji06hf-y7n1HJqwbNQ_jQqUs6OspCec6PmKkGQp4EKzudR0ACCnRmwBT20QQt8kJ1RgqTiVDgpJ5aeR159Ovs1oKsws6mgcUBar-i44M6lqnzlS7sX8sPtzZT8zbLh4uibpTKBgKx-Mfwr-DimE5G380eH6MLSyEC7aE3UCnnbU7Puz8Bh2QndRou-HV6WgqJzyOxqUCJR-BIh1acSrZ3xz6vFKL8ZsOflbB7CMSw==&vjs=3&p=3&sk=&fvj=0'},\n",
       " {'title': 'Business Intelligence Data Analyst',\n",
       "  'location': 'San Diego, CA 92101',\n",
       "  'company': 'The Control Group',\n",
       "  'url': 'https://www.indeed.com/pagead/clk?mo=r&ad=-6NYlbfkN0CXhW8fA2GRKlwIXrA0vpcz1fMfCra_QoF5DofCSmm7EGs2koUgn0hB28rXtvHkayZ6fJ5K0kNCW9wUWkuUNF3h4t0Dq59vqEUFohAktRKNSsYoQFHsK4HBxEkTR_wRhV3QxH4X8ztMYrKrwUySBpzX3YOb0Y7rP1UycdtWzWOv1gJExhsxcaqCX6sAaiYMywyrFSKGARhGEOS2FQdAag1C8H71XoTH0K-IbKuViWQDJ8Thw4nid9fhlEWPasZfm7_o7j5VKQDVKorwesJLRmNOiggmonAg5y8k5QIgmjpMj5Xs8-pnEb7Omwcf6vASom7AjKE12yk9orUxO2ZHNBMeqGd93E9JLE2fgQGkJ4dsROhM-2yYdxRY4MkVrOnqqykn77p1Wf9nqwetJD8bz-t6WcZJVUmmScP8chD3dJ0oLZSX0LKHAV0V8jhckRwCrROS3q-EoYZhULaN80rDBRTf_BbGEa-Ul0Dg_sVC5MvHx0NydQBGx0tTLpvFF-uw99w=&vjs=3&p=4&sk=&fvj=0'},\n",
       " {'title': 'Senior Big Data Engineer',\n",
       "  'location': 'Carlsbad, CA',\n",
       "  'company': 'Rockstar San Diego',\n",
       "  'url': 'https://www.indeed.com/pagead/clk?mo=r&ad=-6NYlbfkN0A91Vduf5Jnd4MOZNnJpSBueM4-3evPFU-42Fh3zggbfl4InGsS-vUM-zIlPEenoG2btTpX3xweSyuEpsEqt3M2DVApOiO9fFvwk3Fga72W__SwDTCgi7ANXxa6kpjkf8KUDdysdJo-f7gcNPgLCzrhGCfzWUcHHEoKcDCsucLkgkUPqCbBGCbFpqy8SHEFCr5I_GcehBREge8EgU2rrQQ9IFahwfJbTCxU4tI6lUnxQryUhdhptCzOraIX-U1nil6Ytggl5Qxym9YK7_NEn2_GP6-5IAheodsGr8SlX7OTSUazopd8CYnHYeyh6AeT9_5kD4Jjix4ZeA_-1vp3h3gpkvhrZPt2IUQmr6c0d_7HEDgjqv0oLPmZ97VP6gtpyp6Tdk9hpZdok5Bpb5jYEOdB_qQWEfH_bZE2qH_G1pLJtr1_m4x4A55WFawB99eOUovFNyJh1klZYUKrvG8jwTYBQG98gEyrA8LVPJ0iX7nX8-c2a1p4rnMliOlkWNCxmgrg0zDYSWswMu7BqHhtoZDbtJzGE7oE6vN-ynjd3IT0XdJWyjimrUOH&vjs=3&p=5&sk=&fvj=0'},\n",
       " {'title': 'Data Science Intern Burbank, CA Summer 2019',\n",
       "  'location': 'Burbank, CA',\n",
       "  'company': 'Direct-to-Consumer and International',\n",
       "  'url': 'https://www.indeed.com/rc/clk?jk=d96bdbce09500d04&fccid=ae27f1a751933d36&vjs=3'},\n",
       " {'title': 'Data Scientist',\n",
       "  'location': 'Irvine, CA 92697',\n",
       "  'company': 'University of California - Irvine',\n",
       "  'url': 'https://www.indeed.com/rc/clk?jk=980a2949f46bbb4f&fccid=eacce60f6c6b75f5&vjs=3'},\n",
       " {'title': 'Data Scientist (entry level)',\n",
       "  'location': 'Pasadena, CA 91101',\n",
       "  'company': 'DrivenBI LLC',\n",
       "  'url': 'https://www.indeed.com/company//jobs/Data-Scientist-0ec46d3f5225ea3f?fccid=4d2ea83d61dc17c9&vjs=3'},\n",
       " {'title': 'Analyst I, Data Science',\n",
       "  'location': 'Los Angeles, CA',\n",
       "  'company': 'Health Services Advisory Group, Inc.',\n",
       "  'url': 'https://www.indeed.com/rc/clk?jk=bc729b0b77401ae0&fccid=99ab00267a973f5f&vjs=3'},\n",
       " {'title': 'Undergraduate Intern - Data Science',\n",
       "  'location': 'Santa Ana, CA 92707',\n",
       "  'company': 'First American',\n",
       "  'url': 'https://www.indeed.com/rc/clk?jk=8ec4bb6403251f8a&fccid=4ee8dde7f79849a9&vjs=3'},\n",
       " {'title': 'Data Scientist',\n",
       "  'location': 'San Francisco, CA 94107 (South Of Market area)',\n",
       "  'company': 'San Francisco Giants',\n",
       "  'url': 'https://www.indeed.com/rc/clk?jk=b9e62a6b2608e8af&fccid=5d22c9161fd008b0&vjs=3'},\n",
       " {'title': 'BIOVIA - Data Science Internship, June - August 2019',\n",
       "  'location': 'San Diego, CA',\n",
       "  'company': 'Dassault Systèmes',\n",
       "  'url': 'https://www.indeed.com/rc/clk?jk=a4ae1626b4e304d9&fccid=29d37d43c382c8fe&vjs=3'},\n",
       " {'title': 'Data Science Intern',\n",
       "  'location': 'San Francisco, CA',\n",
       "  'company': 'eHealth',\n",
       "  'url': 'https://www.indeed.com/rc/clk?jk=85b912f3f9cd7d7b&fccid=571a96f310d20618&vjs=3'},\n",
       " {'title': 'Data Science Specialist',\n",
       "  'location': 'San Francisco, CA',\n",
       "  'company': 'University of California San Francisco',\n",
       "  'url': 'https://www.indeed.com/rc/clk?jk=d693cd79a88ec4be&fccid=2a341562d64c7cdb&vjs=3'},\n",
       " {'title': 'Summer 2019 Intern - Data Science',\n",
       "  'location': 'San Francisco, CA 94105 (Financial District area)',\n",
       "  'company': 'Salesforce',\n",
       "  'url': 'https://www.indeed.com/rc/clk?jk=e1c71983a82f58a9&fccid=4027cfd917e1ee29&vjs=3'},\n",
       " {'title': 'Data Scientist, Machine Learning Engineer',\n",
       "  'location': 'Chino, CA 91710',\n",
       "  'company': 'Telemed Solutions, Inc',\n",
       "  'url': 'https://www.indeed.com/pagead/clk?mo=r&ad=-6NYlbfkN0AOce83cQtHPEGxcQuZspioGjjMDQ26B3OgANgF96u5Ywoh2bSrYnEfoKdaq5BRHfmO2menJMDOMWOYnqwOzlflrb4KXuy9ozqXsbwdWG6x8Jzm6v5v2ihcVGaRwimWbqOAnUmEkoC4Ci94Wcmp3iI4dtPcgFpGQNnR35ynpuch6xgwFm06aHEmq2793yC60So-BmhlgaxGrjCiN5lxlPwPD_1KghzjAnEh_LPSuOqM-QvxJv1ZnEBrAaGYJWvuh0FzsRE9_1mdaayerAptlWJl9ORZrBfMp8oSU3_IS77A0cZ9Zl9XXid7vf_m6mPLE6wYvEzlVOjPQ2SYptDoLfdoou7jnpNvLJ6IoXWjnyRSHsOyesDEIZrKHLHJy_G39XqHq704fyxCz65VBdHOzW-KkRWa7vcKFFwzQQ10SgB-XFvJJ7Y9Q6M3xyGqy5Ivb-KB1UR27lCKOhD-TU_5xkS_&vjs=3&p=6&sk=&fvj=1'},\n",
       " {'title': 'Data Scientist',\n",
       "  'location': 'Los Angeles, CA 90009',\n",
       "  'company': 'CGI Group, Inc.',\n",
       "  'url': 'https://www.indeed.com/pagead/clk?mo=r&ad=-6NYlbfkN0BxdzeAHFmNSkxk-9UVwkWZ3dLEkWckRMohJWYVETMG0iJUVU57x7OmId9XHa1Mjt9CEyPNpX2gW2lfxTa6cJ8ra4_oBwNz7sK4EvixxtjY7brig3MUHTCgQzgAsPLjU2dS8rlU2gbuT22-hVtpgM0Qr02XgC-EGOcWqgfM1YnhNBF_XdWTOT08xhMnF27Wg0Oaeb9JNf2FplpGJBkBnwFQMym8oKbHeUfRfvSnStIQy1LUTFQJfNV2NE7Mxbbr0HYd9A-OYbo75nL4II7O5cv81S5gO6TGR3dmqqB77rCHIhVIWkx_bGi8C3H5Qx8y1cW-g3U6nTSL7Oax04iWiwv49JrQPwokG0gozB6amO5AHrlFDS1l1RRe3yy_8yJiTA9H8KqWMOBcXdrz5tiKVzLRhD_fs_Y2BZP3kHQC5V8RZno0cU5OYNM2fAS68SLmbsp95E7nipnVuw==&vjs=3&p=7&sk=&fvj=0'}]"
      ]
     },
     "execution_count": 48,
     "metadata": {},
     "output_type": "execute_result"
    }
   ],
   "source": [
    "posts"
   ]
  },
  {
   "cell_type": "code",
   "execution_count": 49,
   "metadata": {},
   "outputs": [],
   "source": [
    "# Insert dictionary into MongoDB as a document\n",
    "for post in posts:\n",
    "    collection.insert_one(post)"
   ]
  },
  {
   "cell_type": "code",
   "execution_count": null,
   "metadata": {},
   "outputs": [],
   "source": []
  },
  {
   "cell_type": "code",
   "execution_count": null,
   "metadata": {},
   "outputs": [],
   "source": []
  }
 ],
 "metadata": {
  "kernelspec": {
   "display_name": "Python 3",
   "language": "python",
   "name": "python3"
  },
  "language_info": {
   "codemirror_mode": {
    "name": "ipython",
    "version": 3
   },
   "file_extension": ".py",
   "mimetype": "text/x-python",
   "name": "python",
   "nbconvert_exporter": "python",
   "pygments_lexer": "ipython3",
   "version": "3.6.5"
  },
  "varInspector": {
   "cols": {
    "lenName": 16,
    "lenType": 16,
    "lenVar": 40
   },
   "kernels_config": {
    "python": {
     "delete_cmd_postfix": "",
     "delete_cmd_prefix": "del ",
     "library": "var_list.py",
     "varRefreshCmd": "print(var_dic_list())"
    },
    "r": {
     "delete_cmd_postfix": ") ",
     "delete_cmd_prefix": "rm(",
     "library": "var_list.r",
     "varRefreshCmd": "cat(var_dic_list()) "
    }
   },
   "types_to_exclude": [
    "module",
    "function",
    "builtin_function_or_method",
    "instance",
    "_Feature"
   ],
   "window_display": false
  }
 },
 "nbformat": 4,
 "nbformat_minor": 2
}
