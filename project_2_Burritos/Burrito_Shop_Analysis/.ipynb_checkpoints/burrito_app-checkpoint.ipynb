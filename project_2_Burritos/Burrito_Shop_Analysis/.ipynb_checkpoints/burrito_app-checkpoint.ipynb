{
 "cells": [
  {
   "cell_type": "code",
   "execution_count": 19,
   "metadata": {},
   "outputs": [],
   "source": [
    "import spotipy\n",
    "import sys"
   ]
  },
  {
   "cell_type": "code",
   "execution_count": 31,
   "metadata": {},
   "outputs": [
    {
     "name": "stdout",
     "output_type": "stream",
     "text": [
      "{'artists': {'href': 'https://api.spotify.com/v1/search?query=artist%3AAriana&type=artist&offset=0&limit=10', 'items': [{'external_urls': {'spotify': 'https://open.spotify.com/artist/66CXWjxzNUsdJxJ2JdwvnR'}, 'followers': {'href': None, 'total': 24635565}, 'genres': ['dance pop', 'pop', 'post-teen pop'], 'href': 'https://api.spotify.com/v1/artists/66CXWjxzNUsdJxJ2JdwvnR', 'id': '66CXWjxzNUsdJxJ2JdwvnR', 'images': [{'height': 640, 'url': 'https://i.scdn.co/image/b1dfbe843b0b9f54ab2e588f33e7637d2dab065a', 'width': 640}, {'height': 320, 'url': 'https://i.scdn.co/image/b189cb24f45db92780d1aa6c81aee69b8defa03a', 'width': 320}, {'height': 160, 'url': 'https://i.scdn.co/image/3c4516cf74d09cf93db7536ce8826df28fba4156', 'width': 160}], 'name': 'Ariana Grande', 'popularity': 100, 'type': 'artist', 'uri': 'spotify:artist:66CXWjxzNUsdJxJ2JdwvnR'}, {'external_urls': {'spotify': 'https://open.spotify.com/artist/1Np9GsrPO7dlczjvdehBxs'}, 'followers': {'href': None, 'total': 266}, 'genres': [], 'href': 'https://api.spotify.com/v1/artists/1Np9GsrPO7dlczjvdehBxs', 'id': '1Np9GsrPO7dlczjvdehBxs', 'images': [], 'name': 'Ariana DeBose', 'popularity': 47, 'type': 'artist', 'uri': 'spotify:artist:1Np9GsrPO7dlczjvdehBxs'}, {'external_urls': {'spotify': 'https://open.spotify.com/artist/5ZpkHItfsaTaVtErDGDJ4v'}, 'followers': {'href': None, 'total': 1859}, 'genres': [], 'href': 'https://api.spotify.com/v1/artists/5ZpkHItfsaTaVtErDGDJ4v', 'id': '5ZpkHItfsaTaVtErDGDJ4v', 'images': [{'height': 640, 'url': 'https://i.scdn.co/image/ac36c463d27b6662c29a458a4a29ea23a7cefd98', 'width': 640}, {'height': 320, 'url': 'https://i.scdn.co/image/e2804f4fbade9da8cfa99049b126208717d3037f', 'width': 320}, {'height': 160, 'url': 'https://i.scdn.co/image/6e444159dcb3cc95190c70eef6b3d7d1b494bde2', 'width': 160}], 'name': 'Ariana DeBoo', 'popularity': 47, 'type': 'artist', 'uri': 'spotify:artist:5ZpkHItfsaTaVtErDGDJ4v'}, {'external_urls': {'spotify': 'https://open.spotify.com/artist/6neK0Nwb4rkGnehK4zL8iN'}, 'followers': {'href': None, 'total': 3773}, 'genres': [], 'href': 'https://api.spotify.com/v1/artists/6neK0Nwb4rkGnehK4zL8iN', 'id': '6neK0Nwb4rkGnehK4zL8iN', 'images': [{'height': 640, 'url': 'https://i.scdn.co/image/c69f904f56c4d58306ced12f868fecebe0b8f72c', 'width': 640}, {'height': 320, 'url': 'https://i.scdn.co/image/54321a59a6ddd7e9fad73c3209c47bd59d9d6ace', 'width': 320}, {'height': 160, 'url': 'https://i.scdn.co/image/3f504e47d5ee40cef90c780d4e81f82de94e87fa', 'width': 160}], 'name': 'Ariana Savalas', 'popularity': 39, 'type': 'artist', 'uri': 'spotify:artist:6neK0Nwb4rkGnehK4zL8iN'}, {'external_urls': {'spotify': 'https://open.spotify.com/artist/5HgPIUp6b7DVdhWK3tkl83'}, 'followers': {'href': None, 'total': 5421}, 'genres': ['indie electro-pop'], 'href': 'https://api.spotify.com/v1/artists/5HgPIUp6b7DVdhWK3tkl83', 'id': '5HgPIUp6b7DVdhWK3tkl83', 'images': [{'height': 640, 'url': 'https://i.scdn.co/image/be6826dea2a3b603e9527334836fa1c893b5bbc8', 'width': 640}, {'height': 320, 'url': 'https://i.scdn.co/image/a203f5c234ce27ef398cc5b89b18218ed44a62fd', 'width': 320}, {'height': 160, 'url': 'https://i.scdn.co/image/8fe9d91a88e552927dce12bc1f10a7e243c8890d', 'width': 160}], 'name': 'Ariana and the Rose', 'popularity': 33, 'type': 'artist', 'uri': 'spotify:artist:5HgPIUp6b7DVdhWK3tkl83'}, {'external_urls': {'spotify': 'https://open.spotify.com/artist/3fGeV1KgIn62PRp2MvbBlE'}, 'followers': {'href': None, 'total': 71}, 'genres': [], 'href': 'https://api.spotify.com/v1/artists/3fGeV1KgIn62PRp2MvbBlE', 'id': '3fGeV1KgIn62PRp2MvbBlE', 'images': [{'height': 640, 'url': 'https://i.scdn.co/image/777fc3e2a263b2314d74ba76bf4d3e484751c489', 'width': 640}, {'height': 300, 'url': 'https://i.scdn.co/image/a514c5604feca21faa507dcc92a6db80285252cf', 'width': 300}, {'height': 64, 'url': 'https://i.scdn.co/image/cd3fb5afeb91e27901505043d456a273fbd7b9df', 'width': 64}], 'name': 'Ariana Madix', 'popularity': 26, 'type': 'artist', 'uri': 'spotify:artist:3fGeV1KgIn62PRp2MvbBlE'}, {'external_urls': {'spotify': 'https://open.spotify.com/artist/57Q0JjfUToJgb0JFY8OovC'}, 'followers': {'href': None, 'total': 19}, 'genres': [], 'href': 'https://api.spotify.com/v1/artists/57Q0JjfUToJgb0JFY8OovC', 'id': '57Q0JjfUToJgb0JFY8OovC', 'images': [], 'name': 'Ariana De Boo', 'popularity': 28, 'type': 'artist', 'uri': 'spotify:artist:57Q0JjfUToJgb0JFY8OovC'}, {'external_urls': {'spotify': 'https://open.spotify.com/artist/4mSE6EY6HWmw2aEJ4aCp4K'}, 'followers': {'href': None, 'total': 389}, 'genres': [], 'href': 'https://api.spotify.com/v1/artists/4mSE6EY6HWmw2aEJ4aCp4K', 'id': '4mSE6EY6HWmw2aEJ4aCp4K', 'images': [{'height': 1465, 'url': 'https://i.scdn.co/image/f92813a5544a1174ece57729082b642d3eef6a11', 'width': 1000}, {'height': 938, 'url': 'https://i.scdn.co/image/c0f15061ba14b91e1a5dbda7aac4c9f8a4a4bbd3', 'width': 640}, {'height': 293, 'url': 'https://i.scdn.co/image/c64513c391aeede8f22e6d9a5a8b9760b50e4364', 'width': 200}, {'height': 94, 'url': 'https://i.scdn.co/image/42d8b6e2bbcab80f07d46726d6fbc51efb33899e', 'width': 64}], 'name': 'Ariana', 'popularity': 25, 'type': 'artist', 'uri': 'spotify:artist:4mSE6EY6HWmw2aEJ4aCp4K'}, {'external_urls': {'spotify': 'https://open.spotify.com/artist/54Rh5nfSprzxNkZZyuJPG9'}, 'followers': {'href': None, 'total': 1015}, 'genres': [], 'href': 'https://api.spotify.com/v1/artists/54Rh5nfSprzxNkZZyuJPG9', 'id': '54Rh5nfSprzxNkZZyuJPG9', 'images': [{'height': 640, 'url': 'https://i.scdn.co/image/dde8f2d2774d57110129b6a8a21d10cc917b3e2f', 'width': 640}, {'height': 320, 'url': 'https://i.scdn.co/image/93866999a6834dd2afe659b08ba9c0c9365230b2', 'width': 320}, {'height': 160, 'url': 'https://i.scdn.co/image/c1e8f745fdbc3d215686688e0fd2dfa2e2826563', 'width': 160}], 'name': 'Ariana B', 'popularity': 10, 'type': 'artist', 'uri': 'spotify:artist:54Rh5nfSprzxNkZZyuJPG9'}, {'external_urls': {'spotify': 'https://open.spotify.com/artist/5OFUXCyUfBUpLWIpXwH0lb'}, 'followers': {'href': None, 'total': 80}, 'genres': [], 'href': 'https://api.spotify.com/v1/artists/5OFUXCyUfBUpLWIpXwH0lb', 'id': '5OFUXCyUfBUpLWIpXwH0lb', 'images': [{'height': 640, 'url': 'https://i.scdn.co/image/4e4d24810f2d699069c6811e034f66ffe5857cb4', 'width': 640}, {'height': 300, 'url': 'https://i.scdn.co/image/1139bfdb8d86cacd1bf120247723234538f67028', 'width': 300}, {'height': 64, 'url': 'https://i.scdn.co/image/fa9d8794ea8ef2ef165d22a990c549b7259da52b', 'width': 64}], 'name': 'Alissa Ariana', 'popularity': 17, 'type': 'artist', 'uri': 'spotify:artist:5OFUXCyUfBUpLWIpXwH0lb'}], 'limit': 10, 'next': 'https://api.spotify.com/v1/search?query=artist%3AAriana&type=artist&offset=10&limit=10', 'offset': 0, 'previous': None, 'total': 163}}\n"
     ]
    }
   ],
   "source": [
    "\n",
    "import spotipy\n",
    "import spotipy.oauth2 as oauth2\n",
    "\n",
    "credentials = oauth2.SpotifyClientCredentials(\n",
    "        client_id = \"dc75911e360e480495af00095bcaabc9\",\n",
    "        client_secret = \"8f43e2e0d78041a79049ef64c3df1496\")\n",
    "\n",
    "token = credentials.get_access_token()\n",
    "spotify = spotipy.Spotify(auth=token)\n",
    "results = spotify.search(q='artist:' + \"Ariana\", type='artist')\n",
    "print (results)"
   ]
  },
  {
   "cell_type": "code",
   "execution_count": null,
   "metadata": {},
   "outputs": [],
   "source": []
  }
 ],
 "metadata": {
  "kernelspec": {
   "display_name": "Python 3",
   "language": "python",
   "name": "python3"
  },
  "language_info": {
   "codemirror_mode": {
    "name": "ipython",
    "version": 3
   },
   "file_extension": ".py",
   "mimetype": "text/x-python",
   "name": "python",
   "nbconvert_exporter": "python",
   "pygments_lexer": "ipython3",
   "version": "3.7.0"
  }
 },
 "nbformat": 4,
 "nbformat_minor": 2
}
